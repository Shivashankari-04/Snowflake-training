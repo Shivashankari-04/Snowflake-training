{
 "cells": [
  {
   "cell_type": "code",
   "execution_count": 0,
   "metadata": {
    "application/vnd.databricks.v1+cell": {
     "cellMetadata": {
      "byteLimit": 2048000,
      "rowLimit": 10000
     },
     "inputWidgets": {},
     "nuid": "53c05300-d9e9-4382-a2fe-eaea50048e9f",
     "showTitle": false,
     "tableResultSettingsMap": {},
     "title": ""
    }
   },
   "outputs": [
    {
     "output_type": "stream",
     "name": "stdout",
     "output_type": "stream",
     "text": [
      "Collecting snowflake-snowpark-python[pandas]\n  Downloading snowflake_snowpark_python-1.40.0-py3-none-any.whl.metadata (170 kB)\n\u001B[?25l     \u001B[90m━━━━━━━━━━━━━━━━━━━━━━━━━━━━━━━━━━━━━━━━\u001B[0m \u001B[32m0.0/170.6 kB\u001B[0m \u001B[31m?\u001B[0m eta \u001B[36m-:--:--\u001B[0m\n\u001B[2K     \u001B[91m━━━━━━━\u001B[0m\u001B[90m╺\u001B[0m\u001B[90m━━━━━━━━━━━━━━━━━━━━━━━━━━━━━━━━\u001B[0m \u001B[32m30.7/170.6 kB\u001B[0m \u001B[31m1.1 MB/s\u001B[0m eta \u001B[36m0:00:01\u001B[0m\n\u001B[2K     \u001B[91m━━━━━━━━━━━━━━━\u001B[0m\u001B[91m╸\u001B[0m\u001B[90m━━━━━━━━━━━━━━━━━━━━━━\u001B[0m \u001B[32m71.7/170.6 kB\u001B[0m \u001B[31m961.2 kB/s\u001B[0m eta \u001B[36m0:00:01\u001B[0m\n\u001B[2K     \u001B[91m━━━━━━━━━━━━━━━━━━━━━━━━━━━━\u001B[0m\u001B[90m╺\u001B[0m\u001B[90m━━━━━━━━━━\u001B[0m \u001B[32m122.9/170.6 kB\u001B[0m \u001B[31m1.1 MB/s\u001B[0m eta \u001B[36m0:00:01\u001B[0m\n\u001B[2K     \u001B[90m━━━━━━━━━━━━━━━━━━━━━━━━━━━━━━━━━━━━━━━\u001B[0m \u001B[32m170.6/170.6 kB\u001B[0m \u001B[31m1.3 MB/s\u001B[0m eta \u001B[36m0:00:00\u001B[0m\n\u001B[?25hRequirement already satisfied: setuptools>=40.6.0 in /usr/local/lib/python3.12/dist-packages (from snowflake-snowpark-python[pandas]) (74.0.0)\nRequirement already satisfied: wheel in /databricks/python3/lib/python3.12/site-packages (from snowflake-snowpark-python[pandas]) (0.43.0)\nCollecting snowflake-connector-python<4.0.0,>=3.17.0 (from snowflake-snowpark-python[pandas])\n  Downloading snowflake_connector_python-3.18.0-cp312-cp312-manylinux_2_17_x86_64.manylinux2014_x86_64.whl.metadata (74 kB)\n\u001B[?25l     \u001B[90m━━━━━━━━━━━━━━━━━━━━━━━━━━━━━━━━━━━━━━━━\u001B[0m \u001B[32m0.0/74.8 kB\u001B[0m \u001B[31m?\u001B[0m eta \u001B[36m-:--:--\u001B[0m\n\u001B[2K     \u001B[90m━━━━━━━━━━━━━━━━━━━━━━━━━━━━━━━━━━━━━━━━\u001B[0m \u001B[32m74.8/74.8 kB\u001B[0m \u001B[31m2.6 MB/s\u001B[0m eta \u001B[36m0:00:00\u001B[0m\n\u001B[?25hRequirement already satisfied: typing-extensions<5.0.0,>=4.1.0 in /databricks/python3/lib/python3.12/site-packages (from snowflake-snowpark-python[pandas]) (4.11.0)\nRequirement already satisfied: pyyaml in /databricks/python3/lib/python3.12/site-packages (from snowflake-snowpark-python[pandas]) (6.0.1)\nRequirement already satisfied: cloudpickle!=2.1.0,!=2.2.0,<=3.1.1,>=1.6.0 in /databricks/python3/lib/python3.12/site-packages (from snowflake-snowpark-python[pandas]) (2.2.1)\nRequirement already satisfied: protobuf<6.32,>=3.20 in /databricks/python3/lib/python3.12/site-packages (from snowflake-snowpark-python[pandas]) (4.24.1)\nRequirement already satisfied: python-dateutil in /databricks/python3/lib/python3.12/site-packages (from snowflake-snowpark-python[pandas]) (2.9.0.post0)\nCollecting tzlocal (from snowflake-snowpark-python[pandas])\n  Downloading tzlocal-5.3.1-py3-none-any.whl.metadata (7.6 kB)\nCollecting asn1crypto<2.0.0,>0.24.0 (from snowflake-connector-python<4.0.0,>=3.17.0->snowflake-snowpark-python[pandas])\n  Downloading asn1crypto-1.5.1-py2.py3-none-any.whl.metadata (13 kB)\nRequirement already satisfied: boto3>=1.24 in /databricks/python3/lib/python3.12/site-packages (from snowflake-connector-python<4.0.0,>=3.17.0->snowflake-snowpark-python[pandas]) (1.34.69)\nRequirement already satisfied: botocore>=1.24 in /databricks/python3/lib/python3.12/site-packages (from snowflake-connector-python<4.0.0,>=3.17.0->snowflake-snowpark-python[pandas]) (1.34.69)\nRequirement already satisfied: cffi<2.0.0,>=1.9 in /databricks/python3/lib/python3.12/site-packages (from snowflake-connector-python<4.0.0,>=3.17.0->snowflake-snowpark-python[pandas]) (1.16.0)\nRequirement already satisfied: cryptography>=3.1.0 in /databricks/python3/lib/python3.12/site-packages (from snowflake-connector-python<4.0.0,>=3.17.0->snowflake-snowpark-python[pandas]) (42.0.5)\nCollecting pyOpenSSL<26.0.0,>=22.0.0 (from snowflake-connector-python<4.0.0,>=3.17.0->snowflake-snowpark-python[pandas])\n  Downloading pyopenssl-25.3.0-py3-none-any.whl.metadata (17 kB)\nRequirement already satisfied: pyjwt<3.0.0 in /usr/lib/python3/dist-packages (from snowflake-connector-python<4.0.0,>=3.17.0->snowflake-snowpark-python[pandas]) (2.7.0)\nRequirement already satisfied: pytz in /databricks/python3/lib/python3.12/site-packages (from snowflake-connector-python<4.0.0,>=3.17.0->snowflake-snowpark-python[pandas]) (2024.1)\nRequirement already satisfied: requests<3.0.0 in /databricks/python3/lib/python3.12/site-packages (from snowflake-connector-python<4.0.0,>=3.17.0->snowflake-snowpark-python[pandas]) (2.32.2)\nRequirement already satisfied: packaging in /databricks/python3/lib/python3.12/site-packages (from snowflake-connector-python<4.0.0,>=3.17.0->snowflake-snowpark-python[pandas]) (24.1)\nRequirement already satisfied: charset_normalizer<4,>=2 in /databricks/python3/lib/python3.12/site-packages (from snowflake-connector-python<4.0.0,>=3.17.0->snowflake-snowpark-python[pandas]) (2.0.4)\nRequirement already satisfied: idna<4,>=2.5 in /databricks/python3/lib/python3.12/site-packages (from snowflake-connector-python<4.0.0,>=3.17.0->snowflake-snowpark-python[pandas]) (3.7)\nRequirement already satisfied: certifi>=2017.4.17 in /databricks/python3/lib/python3.12/site-packages (from snowflake-connector-python<4.0.0,>=3.17.0->snowflake-snowpark-python[pandas]) (2024.6.2)\nRequirement already satisfied: filelock<4,>=3.5 in /usr/local/lib/python3.12/dist-packages (from snowflake-connector-python<4.0.0,>=3.17.0->snowflake-snowpark-python[pandas]) (3.15.4)\nCollecting sortedcontainers>=2.4.0 (from snowflake-connector-python<4.0.0,>=3.17.0->snowflake-snowpark-python[pandas])\n  Downloading sortedcontainers-2.4.0-py2.py3-none-any.whl.metadata (10 kB)\nRequirement already satisfied: platformdirs<5.0.0,>=2.6.0 in /databricks/python3/lib/python3.12/site-packages (from snowflake-connector-python<4.0.0,>=3.17.0->snowflake-snowpark-python[pandas]) (3.10.0)\nCollecting tomlkit (from snowflake-connector-python<4.0.0,>=3.17.0->snowflake-snowpark-python[pandas])\n  Downloading tomlkit-0.13.3-py3-none-any.whl.metadata (2.8 kB)\nCollecting pandas<3.0.0,>=2.1.2 (from snowflake-connector-python[pandas]<4.0.0,>=3.17.0; extra == \"pandas\"->snowflake-snowpark-python[pandas])\n  Downloading pandas-2.3.3-cp312-cp312-manylinux_2_24_x86_64.manylinux_2_28_x86_64.whl.metadata (91 kB)\n\u001B[?25l     \u001B[90m━━━━━━━━━━━━━━━━━━━━━━━━━━━━━━━━━━━━━━━━\u001B[0m \u001B[32m0.0/91.2 kB\u001B[0m \u001B[31m?\u001B[0m eta \u001B[36m-:--:--\u001B[0m\n\u001B[2K     \u001B[90m━━━━━━━━━━━━━━━━━━━━━━━━━━━━━━━━━━━━━━━━\u001B[0m \u001B[32m91.2/91.2 kB\u001B[0m \u001B[31m4.4 MB/s\u001B[0m eta \u001B[36m0:00:00\u001B[0m\n\u001B[?25hRequirement already satisfied: pyarrow in /databricks/python3/lib/python3.12/site-packages (from snowflake-connector-python[pandas]<4.0.0,>=3.17.0; extra == \"pandas\"->snowflake-snowpark-python[pandas]) (15.0.2)\nRequirement already satisfied: six>=1.5 in /usr/lib/python3/dist-packages (from python-dateutil->snowflake-snowpark-python[pandas]) (1.16.0)\nRequirement already satisfied: jmespath<2.0.0,>=0.7.1 in /databricks/python3/lib/python3.12/site-packages (from boto3>=1.24->snowflake-connector-python<4.0.0,>=3.17.0->snowflake-snowpark-python[pandas]) (1.0.1)\nRequirement already satisfied: s3transfer<0.11.0,>=0.10.0 in /databricks/python3/lib/python3.12/site-packages (from boto3>=1.24->snowflake-connector-python<4.0.0,>=3.17.0->snowflake-snowpark-python[pandas]) (0.10.2)\nRequirement already satisfied: urllib3!=2.2.0,<3,>=1.25.4 in /databricks/python3/lib/python3.12/site-packages (from botocore>=1.24->snowflake-connector-python<4.0.0,>=3.17.0->snowflake-snowpark-python[pandas]) (1.26.16)\nRequirement already satisfied: pycparser in /databricks/python3/lib/python3.12/site-packages (from cffi<2.0.0,>=1.9->snowflake-connector-python<4.0.0,>=3.17.0->snowflake-snowpark-python[pandas]) (2.21)\nRequirement already satisfied: numpy>=1.26.0 in /databricks/python3/lib/python3.12/site-packages (from pandas<3.0.0,>=2.1.2->snowflake-connector-python[pandas]<4.0.0,>=3.17.0; extra == \"pandas\"->snowflake-snowpark-python[pandas]) (1.26.4)\nCollecting tzdata>=2022.7 (from pandas<3.0.0,>=2.1.2->snowflake-connector-python[pandas]<4.0.0,>=3.17.0; extra == \"pandas\"->snowflake-snowpark-python[pandas])\n  Downloading tzdata-2025.2-py2.py3-none-any.whl.metadata (1.4 kB)\nCollecting cryptography>=3.1.0 (from snowflake-connector-python<4.0.0,>=3.17.0->snowflake-snowpark-python[pandas])\n  Downloading cryptography-46.0.3-cp311-abi3-manylinux_2_34_x86_64.whl.metadata (5.7 kB)\nINFO: pip is looking at multiple versions of cryptography to determine which version is compatible with other requirements. This could take a while.\n  Downloading cryptography-46.0.2-cp311-abi3-manylinux_2_34_x86_64.whl.metadata (5.7 kB)\n  Downloading cryptography-46.0.1-cp311-abi3-manylinux_2_34_x86_64.whl.metadata (5.7 kB)\n  Downloading cryptography-46.0.0-cp311-abi3-manylinux_2_34_x86_64.whl.metadata (5.7 kB)\nDownloading snowflake_connector_python-3.18.0-cp312-cp312-manylinux_2_17_x86_64.manylinux2014_x86_64.whl (2.7 MB)\n\u001B[?25l   \u001B[90m━━━━━━━━━━━━━━━━━━━━━━━━━━━━━━━━━━━━━━━━\u001B[0m \u001B[32m0.0/2.7 MB\u001B[0m \u001B[31m?\u001B[0m eta \u001B[36m-:--:--\u001B[0m\n\u001B[2K   \u001B[91m━━\u001B[0m\u001B[91m╸\u001B[0m\u001B[90m━━━━━━━━━━━━━━━━━━━━━━━━━━━━━━━━━━━━━\u001B[0m \u001B[32m0.2/2.7 MB\u001B[0m \u001B[31m9.5 MB/s\u001B[0m eta \u001B[36m0:00:01\u001B[0m\n\u001B[2K   \u001B[91m━━━━━━\u001B[0m\u001B[91m╸\u001B[0m\u001B[90m━━━━━━━━━━━━━━━━━━━━━━━━━━━━━━━━━\u001B[0m \u001B[32m0.5/2.7 MB\u001B[0m \u001B[31m6.8 MB/s\u001B[0m eta \u001B[36m0:00:01\u001B[0m\n\u001B[2K   \u001B[91m━━━━━━━━━━━\u001B[0m\u001B[90m╺\u001B[0m\u001B[90m━━━━━━━━━━━━━━━━━━━━━━━━━━━━\u001B[0m \u001B[32m0.7/2.7 MB\u001B[0m \u001B[31m7.2 MB/s\u001B[0m eta \u001B[36m0:00:01\u001B[0m\n\u001B[2K   \u001B[91m━━━━━━━━━━━━━━━━━━━━\u001B[0m\u001B[91m╸\u001B[0m\u001B[90m━━━━━━━━━━━━━━━━━━━\u001B[0m \u001B[32m1.4/2.7 MB\u001B[0m \u001B[31m11.0 MB/s\u001B[0m eta \u001B[36m0:00:01\u001B[0m\n\u001B[2K   \u001B[91m━━━━━━━━━━━━━━━━━━━━━━━━━━━━━━━━━━━━━━━\u001B[0m\u001B[91m╸\u001B[0m \u001B[32m2.7/2.7 MB\u001B[0m \u001B[31m15.9 MB/s\u001B[0m eta \u001B[36m0:00:01\u001B[0m\n\u001B[2K   \u001B[90m━━━━━━━━━━━━━━━━━━━━━━━━━━━━━━━━━━━━━━━━\u001B[0m \u001B[32m2.7/2.7 MB\u001B[0m \u001B[31m14.2 MB/s\u001B[0m eta \u001B[36m0:00:00\u001B[0m\n\u001B[?25hDownloading snowflake_snowpark_python-1.40.0-py3-none-any.whl (1.8 MB)\n\u001B[?25l   \u001B[90m━━━━━━━━━━━━━━━━━━━━━━━━━━━━━━━━━━━━━━━━\u001B[0m \u001B[32m0.0/1.8 MB\u001B[0m \u001B[31m?\u001B[0m eta \u001B[36m-:--:--\u001B[0m\n\u001B[2K   \u001B[90m━━━━━━━━━━━━━━━━━━━━━━━━━━━━━━━━━━━━━━━━\u001B[0m \u001B[32m1.8/1.8 MB\u001B[0m \u001B[31m59.8 MB/s\u001B[0m eta \u001B[36m0:00:00\u001B[0m\n\u001B[?25hDownloading tzlocal-5.3.1-py3-none-any.whl (18 kB)\nDownloading asn1crypto-1.5.1-py2.py3-none-any.whl (105 kB)\n\u001B[?25l   \u001B[90m━━━━━━━━━━━━━━━━━━━━━━━━━━━━━━━━━━━━━━━━\u001B[0m \u001B[32m0.0/105.0 kB\u001B[0m \u001B[31m?\u001B[0m eta \u001B[36m-:--:--\u001B[0m\n\u001B[2K   \u001B[90m━━━━━━━━━━━━━━━━━━━━━━━━━━━━━━━━━━━━━━━━\u001B[0m \u001B[32m105.0/105.0 kB\u001B[0m \u001B[31m8.5 MB/s\u001B[0m eta \u001B[36m0:00:00\u001B[0m\n\u001B[?25hDownloading pandas-2.3.3-cp312-cp312-manylinux_2_24_x86_64.manylinux_2_28_x86_64.whl (12.4 MB)\n\u001B[?25l   \u001B[90m━━━━━━━━━━━━━━━━━━━━━━━━━━━━━━━━━━━━━━━━\u001B[0m \u001B[32m0.0/12.4 MB\u001B[0m \u001B[31m?\u001B[0m eta \u001B[36m-:--:--\u001B[0m\n\u001B[2K   \u001B[91m━━━━━━━━━━\u001B[0m\u001B[90m╺\u001B[0m\u001B[90m━━━━━━━━━━━━━━━━━━━━━━━━━━━━━\u001B[0m \u001B[32m3.1/12.4 MB\u001B[0m \u001B[31m190.9 MB/s\u001B[0m eta \u001B[36m0:00:01\u001B[0m\n\u001B[2K   \u001B[91m━━━━━━━━━━━━━━━━━━━━\u001B[0m\u001B[90m╺\u001B[0m\u001B[90m━━━━━━━━━━━━━━━━━━━\u001B[0m \u001B[32m6.2/12.4 MB\u001B[0m \u001B[31m96.7 MB/s\u001B[0m eta \u001B[36m0:00:01\u001B[0m\n\u001B[2K   \u001B[91m━━━━━━━━━━━━━━━━━━━━━━━━\u001B[0m\u001B[91m╸\u001B[0m\u001B[90m━━━━━━━━━━━━━━━\u001B[0m \u001B[32m7.6/12.4 MB\u001B[0m \u001B[31m73.5 MB/s\u001B[0m eta \u001B[36m0:00:01\u001B[0m\n\u001B[2K   \u001B[91m━━━━━━━━━━━━━━━━━━━━━━━━━━━━━━\u001B[0m\u001B[90m╺\u001B[0m\u001B[90m━━━━━━━━━\u001B[0m \u001B[32m9.3/12.4 MB\u001B[0m \u001B[31m83.2 MB/s\u001B[0m eta \u001B[36m0:00:01\u001B[0m\n\u001B[2K   \u001B[91m━━━━━━━━━━━━━━━━━━━━━━━━━━━━━━━━━━━━━━━\u001B[0m\u001B[91m╸\u001B[0m \u001B[32m12.4/12.4 MB\u001B[0m \u001B[31m68.2 MB/s\u001B[0m eta \u001B[36m0:00:01\u001B[0m\n\u001B[2K   \u001B[90m━━━━━━━━━━━━━━━━━━━━━━━━━━━━━━━━━━━━━━━━\u001B[0m \u001B[32m12.4/12.4 MB\u001B[0m \u001B[31m52.9 MB/s\u001B[0m eta \u001B[36m0:00:00\u001B[0m\n\u001B[?25hDownloading pyopenssl-25.3.0-py3-none-any.whl (57 kB)\n\u001B[?25l   \u001B[90m━━━━━━━━━━━━━━━━━━━━━━━━━━━━━━━━━━━━━━━━\u001B[0m \u001B[32m0.0/57.3 kB\u001B[0m \u001B[31m?\u001B[0m eta \u001B[36m-:--:--\u001B[0m\n\u001B[2K   \u001B[90m━━━━━━━━━━━━━━━━━━━━━━━━━━━━━━━━━━━━━━━━\u001B[0m \u001B[32m57.3/57.3 kB\u001B[0m \u001B[31m4.6 MB/s\u001B[0m eta \u001B[36m0:00:00\u001B[0m\n\u001B[?25hDownloading cryptography-46.0.0-cp311-abi3-manylinux_2_34_x86_64.whl (4.6 MB)\n\u001B[?25l   \u001B[90m━━━━━━━━━━━━━━━━━━━━━━━━━━━━━━━━━━━━━━━━\u001B[0m \u001B[32m0.0/4.6 MB\u001B[0m \u001B[31m?\u001B[0m eta \u001B[36m-:--:--\u001B[0m\n\u001B[2K   \u001B[91m━━━━━━━━━━━━━━━━━━━━━━━━━━━\u001B[0m\u001B[90m╺\u001B[0m\u001B[90m━━━━━━━━━━━━\u001B[0m \u001B[32m3.1/4.6 MB\u001B[0m \u001B[31m287.2 MB/s\u001B[0m eta \u001B[36m0:00:01\u001B[0m\n\u001B[2K   \u001B[91m━━━━━━━━━━━━━━━━━━━━━━━━━━━━━━━━━━━━━━━\u001B[0m\u001B[91m╸\u001B[0m \u001B[32m4.6/4.6 MB\u001B[0m \u001B[31m86.5 MB/s\u001B[0m eta \u001B[36m0:00:01\u001B[0m\n\u001B[2K   \u001B[90m━━━━━━━━━━━━━━━━━━━━━━━━━━━━━━━━━━━━━━━━\u001B[0m \u001B[32m4.6/4.6 MB\u001B[0m \u001B[31m59.1 MB/s\u001B[0m eta \u001B[36m0:00:00\u001B[0m\n\u001B[?25hDownloading sortedcontainers-2.4.0-py2.py3-none-any.whl (29 kB)\nDownloading tomlkit-0.13.3-py3-none-any.whl (38 kB)\nDownloading tzdata-2025.2-py2.py3-none-any.whl (347 kB)\n\u001B[?25l   \u001B[90m━━━━━━━━━━━━━━━━━━━━━━━━━━━━━━━━━━━━━━━━\u001B[0m \u001B[32m0.0/347.8 kB\u001B[0m \u001B[31m?\u001B[0m eta \u001B[36m-:--:--\u001B[0m\n\u001B[2K   \u001B[90m━━━━━━━━━━━━━━━━━━━━━━━━━━━━━━━━━━━━━━━━\u001B[0m \u001B[32m347.8/347.8 kB\u001B[0m \u001B[31m21.3 MB/s\u001B[0m eta \u001B[36m0:00:00\u001B[0m\n\u001B[?25hInstalling collected packages: sortedcontainers, asn1crypto, tzlocal, tzdata, tomlkit, pandas, cryptography, pyOpenSSL, snowflake-connector-python, snowflake-snowpark-python\n  Attempting uninstall: pandas\n    Found existing installation: pandas 1.5.3\n    Not uninstalling pandas at /databricks/python3/lib/python3.12/site-packages, outside environment /local_disk0/.ephemeral_nfs/envs/pythonEnv-2dc704bb-c99f-4b45-8f9f-681ac65c17ab\n    Can't uninstall 'pandas'. No files were found to uninstall.\n  Attempting uninstall: cryptography\n    Found existing installation: cryptography 42.0.5\n    Not uninstalling cryptography at /databricks/python3/lib/python3.12/site-packages, outside environment /local_disk0/.ephemeral_nfs/envs/pythonEnv-2dc704bb-c99f-4b45-8f9f-681ac65c17ab\n    Can't uninstall 'cryptography'. No files were found to uninstall.\nSuccessfully installed asn1crypto-1.5.1 cryptography-46.0.0 pandas-2.3.3 pyOpenSSL-25.3.0 snowflake-connector-python-3.18.0 snowflake-snowpark-python-1.40.0 sortedcontainers-2.4.0 tomlkit-0.13.3 tzdata-2025.2 tzlocal-5.3.1\n\u001B[43mNote: you may need to restart the kernel using %restart_python or dbutils.library.restartPython() to use updated packages.\u001B[0m\n"
     ]
    }
   ],
   "source": [
    "%pip install \"snowflake-snowpark-python[pandas]\"\n"
   ]
  },
  {
   "cell_type": "code",
   "execution_count": 0,
   "metadata": {
    "application/vnd.databricks.v1+cell": {
     "cellMetadata": {
      "byteLimit": 2048000,
      "rowLimit": 10000
     },
     "inputWidgets": {},
     "nuid": "ffc8a27e-a837-4ca6-9dd8-161871173d62",
     "showTitle": false,
     "tableResultSettingsMap": {},
     "title": ""
    }
   },
   "outputs": [],
   "source": [
    "%restart_python"
   ]
  },
  {
   "cell_type": "code",
   "execution_count": 0,
   "metadata": {
    "application/vnd.databricks.v1+cell": {
     "cellMetadata": {
      "byteLimit": 2048000,
      "rowLimit": 10000
     },
     "inputWidgets": {},
     "nuid": "3fda19a2-7d96-46bb-b341-d7335837d1f9",
     "showTitle": false,
     "tableResultSettingsMap": {},
     "title": ""
    }
   },
   "outputs": [
    {
     "output_type": "stream",
     "name": "stdout",
     "output_type": "stream",
     "text": [
      "Connected to Snowflake!\n"
     ]
    }
   ],
   "source": [
    "from snowflake.snowpark import Session\n",
    "import time\n",
    "\n",
    "# --- Snowflake connection configuration ---\n",
    "connection_parameters = {\n",
    "    \"account\":\"tprtvog-tg33465\",\n",
    "    \"user\": \"shivashankari\",\n",
    "    \"password\": \"Shivashankari_04\",\n",
    "    \"role\": \"ACCOUNTADMIN\",                    # or another valid role\n",
    "    \"warehouse\": \"wh_assign2\",               # your test warehouse\n",
    "    \"database\": \"MY_PRACTICE_DB\",\n",
    "    \"schema\": \"PUBLIC\"\n",
    "}\n",
    "\n",
    "# --- Create a Snowpark session ---\n",
    "session = Session.builder.configs(connection_parameters).create()\n",
    "print(\"Connected to Snowflake!\")\n"
   ]
  },
  {
   "cell_type": "code",
   "execution_count": 0,
   "metadata": {
    "application/vnd.databricks.v1+cell": {
     "cellMetadata": {
      "byteLimit": 2048000,
      "rowLimit": 10000
     },
     "inputWidgets": {},
     "nuid": "693d9a41-3ec4-4250-816b-5bfdccd8551b",
     "showTitle": false,
     "tableResultSettingsMap": {},
     "title": ""
    }
   },
   "outputs": [
    {
     "output_type": "stream",
     "name": "stdout",
     "output_type": "stream",
     "text": [
      "Snowpark job completed in 0.78 seconds\n"
     ]
    }
   ],
   "source": [
    "from snowflake.snowpark.functions import col, count\n",
    "\n",
    "start = time.time()\n",
    "\n",
    "# Load the big table\n",
    "df = session.table(\"BIG_EVENTS\")\n",
    "\n",
    "# Group by USER_ID and count events\n",
    "agg_df = df.group_by(col(\"USER_ID\")).agg(count(\"*\").alias(\"EVENT_COUNT\"))\n",
    "\n",
    "# Write the results into a new table\n",
    "agg_df.write.save_as_table(\"BIG_EVENTS_AGG\", mode=\"overwrite\")\n",
    "\n",
    "end = time.time()\n",
    "print(f\"Snowpark job completed in {end - start:.2f} seconds\")\n"
   ]
  },
  {
   "cell_type": "code",
   "execution_count": 0,
   "metadata": {
    "application/vnd.databricks.v1+cell": {
     "cellMetadata": {
      "byteLimit": 2048000,
      "rowLimit": 10000
     },
     "inputWidgets": {},
     "nuid": "a1a61e55-f2db-4902-9aa1-ebdc18e9a70b",
     "showTitle": false,
     "tableResultSettingsMap": {},
     "title": ""
    }
   },
   "outputs": [
    {
     "output_type": "stream",
     "name": "stdout",
     "output_type": "stream",
     "text": [
      "-----------------------------\n|\"USER_ID\"  |\"EVENT_COUNT\"  |\n-----------------------------\n|290094     |4              |\n|878650     |2              |\n|221779     |3              |\n|629296     |2              |\n|612001     |3              |\n-----------------------------\n\n"
     ]
    }
   ],
   "source": [
    "session.table(\"BIG_EVENTS_AGG\").show(5)\n"
   ]
  },
  {
   "cell_type": "code",
   "execution_count": 0,
   "metadata": {
    "application/vnd.databricks.v1+cell": {
     "cellMetadata": {
      "byteLimit": 2048000,
      "rowLimit": 10000
     },
     "inputWidgets": {},
     "nuid": "c1b5f068-3911-4fa6-882b-a1b6ae504364",
     "showTitle": false,
     "tableResultSettingsMap": {},
     "title": ""
    }
   },
   "outputs": [
    {
     "output_type": "stream",
     "name": "stdout",
     "output_type": "stream",
     "text": [
      "Job finished in 0.64 seconds\n-----------------------------\n|\"USER_ID\"  |\"EVENT_COUNT\"  |\n-----------------------------\n|368522     |1              |\n|332204     |1              |\n|811189     |2              |\n|404799     |2              |\n|504308     |3              |\n-----------------------------\n\n"
     ]
    }
   ],
   "source": [
    "start = time.time()\n",
    "\n",
    "df = session.table(\"BIG_EVENTS\")\n",
    "agg = df.group_by(col(\"USER_ID\")).agg(count(\"*\").alias(\"EVENT_COUNT\"))\n",
    "agg.write.save_as_table(\"BIG_EVENTS_AGG\", mode=\"overwrite\")\n",
    "\n",
    "end = time.time()\n",
    "print(f\"Job finished in {end - start:.2f} seconds\")\n",
    "\n",
    "session.table(\"BIG_EVENTS_AGG\").show(5)\n"
   ]
  }
 ],
 "metadata": {
  "application/vnd.databricks.v1+notebook": {
   "computePreferences": null,
   "dashboards": [],
   "environmentMetadata": {
    "base_environment": "",
    "environment_version": "4"
   },
   "inputWidgetPreferences": null,
   "language": "python",
   "notebookMetadata": {
    "pythonIndentUnit": 4
   },
   "notebookName": "Assignment_2",
   "widgets": {}
  },
  "language_info": {
   "name": "python"
  }
 },
 "nbformat": 4,
 "nbformat_minor": 0
}