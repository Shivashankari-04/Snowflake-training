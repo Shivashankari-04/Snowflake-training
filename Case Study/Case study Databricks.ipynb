{
 "cells": [
  {
   "cell_type": "code",
   "execution_count": 0,
   "metadata": {
    "application/vnd.databricks.v1+cell": {
     "cellMetadata": {
      "byteLimit": 2048000,
      "rowLimit": 10000
     },
     "inputWidgets": {},
     "nuid": "24612cb3-503d-4eea-bec3-b8456d62ffb8",
     "showTitle": false,
     "tableResultSettingsMap": {},
     "title": ""
    }
   },
   "outputs": [
    {
     "output_type": "stream",
     "name": "stdout",
     "output_type": "stream",
     "text": [
      "Requirement already satisfied: snowflake-connector-python in /local_disk0/.ephemeral_nfs/envs/pythonEnv-6282bcb2-ae3a-4b04-8163-4665474a75b9/lib/python3.12/site-packages (3.18.0)\nRequirement already satisfied: asn1crypto<2.0.0,>0.24.0 in /local_disk0/.ephemeral_nfs/envs/pythonEnv-6282bcb2-ae3a-4b04-8163-4665474a75b9/lib/python3.12/site-packages (from snowflake-connector-python) (1.5.1)\nRequirement already satisfied: boto3>=1.24 in /databricks/python3/lib/python3.12/site-packages (from snowflake-connector-python) (1.34.69)\nRequirement already satisfied: botocore>=1.24 in /databricks/python3/lib/python3.12/site-packages (from snowflake-connector-python) (1.34.69)\nRequirement already satisfied: cffi<2.0.0,>=1.9 in /local_disk0/.ephemeral_nfs/envs/pythonEnv-6282bcb2-ae3a-4b04-8163-4665474a75b9/lib/python3.12/site-packages (from snowflake-connector-python) (1.17.1)\nRequirement already satisfied: cryptography>=3.1.0 in /local_disk0/.ephemeral_nfs/envs/pythonEnv-6282bcb2-ae3a-4b04-8163-4665474a75b9/lib/python3.12/site-packages (from snowflake-connector-python) (46.0.0)\nRequirement already satisfied: pyOpenSSL<26.0.0,>=22.0.0 in /local_disk0/.ephemeral_nfs/envs/pythonEnv-6282bcb2-ae3a-4b04-8163-4665474a75b9/lib/python3.12/site-packages (from snowflake-connector-python) (25.3.0)\nRequirement already satisfied: pyjwt<3.0.0 in /usr/lib/python3/dist-packages (from snowflake-connector-python) (2.7.0)\nRequirement already satisfied: pytz in /databricks/python3/lib/python3.12/site-packages (from snowflake-connector-python) (2024.1)\nRequirement already satisfied: requests<3.0.0 in /databricks/python3/lib/python3.12/site-packages (from snowflake-connector-python) (2.32.2)\nRequirement already satisfied: packaging in /databricks/python3/lib/python3.12/site-packages (from snowflake-connector-python) (24.1)\nRequirement already satisfied: charset_normalizer<4,>=2 in /databricks/python3/lib/python3.12/site-packages (from snowflake-connector-python) (2.0.4)\nRequirement already satisfied: idna<4,>=2.5 in /databricks/python3/lib/python3.12/site-packages (from snowflake-connector-python) (3.7)\nRequirement already satisfied: certifi>=2017.4.17 in /databricks/python3/lib/python3.12/site-packages (from snowflake-connector-python) (2024.6.2)\nRequirement already satisfied: typing_extensions<5,>=4.3 in /databricks/python3/lib/python3.12/site-packages (from snowflake-connector-python) (4.11.0)\nRequirement already satisfied: filelock<4,>=3.5 in /usr/local/lib/python3.12/dist-packages (from snowflake-connector-python) (3.15.4)\nRequirement already satisfied: sortedcontainers>=2.4.0 in /local_disk0/.ephemeral_nfs/envs/pythonEnv-6282bcb2-ae3a-4b04-8163-4665474a75b9/lib/python3.12/site-packages (from snowflake-connector-python) (2.4.0)\nRequirement already satisfied: platformdirs<5.0.0,>=2.6.0 in /databricks/python3/lib/python3.12/site-packages (from snowflake-connector-python) (3.10.0)\nRequirement already satisfied: tomlkit in /local_disk0/.ephemeral_nfs/envs/pythonEnv-6282bcb2-ae3a-4b04-8163-4665474a75b9/lib/python3.12/site-packages (from snowflake-connector-python) (0.13.3)\nRequirement already satisfied: jmespath<2.0.0,>=0.7.1 in /databricks/python3/lib/python3.12/site-packages (from boto3>=1.24->snowflake-connector-python) (1.0.1)\nRequirement already satisfied: s3transfer<0.11.0,>=0.10.0 in /databricks/python3/lib/python3.12/site-packages (from boto3>=1.24->snowflake-connector-python) (0.10.2)\nRequirement already satisfied: python-dateutil<3.0.0,>=2.1 in /databricks/python3/lib/python3.12/site-packages (from botocore>=1.24->snowflake-connector-python) (2.9.0.post0)\nRequirement already satisfied: urllib3!=2.2.0,<3,>=1.25.4 in /databricks/python3/lib/python3.12/site-packages (from botocore>=1.24->snowflake-connector-python) (1.26.16)\nRequirement already satisfied: pycparser in /databricks/python3/lib/python3.12/site-packages (from cffi<2.0.0,>=1.9->snowflake-connector-python) (2.21)\nRequirement already satisfied: six>=1.5 in /usr/lib/python3/dist-packages (from python-dateutil<3.0.0,>=2.1->botocore>=1.24->snowflake-connector-python) (1.16.0)\n\u001B[43mNote: you may need to restart the kernel using %restart_python or dbutils.library.restartPython() to use updated packages.\u001B[0m\nRequirement already satisfied: snowflake-snowpark-python in /local_disk0/.ephemeral_nfs/envs/pythonEnv-6282bcb2-ae3a-4b04-8163-4665474a75b9/lib/python3.12/site-packages (1.40.0)\nRequirement already satisfied: setuptools>=40.6.0 in /usr/local/lib/python3.12/dist-packages (from snowflake-snowpark-python) (74.0.0)\nRequirement already satisfied: wheel in /databricks/python3/lib/python3.12/site-packages (from snowflake-snowpark-python) (0.43.0)\nRequirement already satisfied: snowflake-connector-python<4.0.0,>=3.17.0 in /local_disk0/.ephemeral_nfs/envs/pythonEnv-6282bcb2-ae3a-4b04-8163-4665474a75b9/lib/python3.12/site-packages (from snowflake-snowpark-python) (3.18.0)\nRequirement already satisfied: typing-extensions<5.0.0,>=4.1.0 in /databricks/python3/lib/python3.12/site-packages (from snowflake-snowpark-python) (4.11.0)\nRequirement already satisfied: pyyaml in /databricks/python3/lib/python3.12/site-packages (from snowflake-snowpark-python) (6.0.1)\nRequirement already satisfied: cloudpickle!=2.1.0,!=2.2.0,<=3.1.1,>=1.6.0 in /databricks/python3/lib/python3.12/site-packages (from snowflake-snowpark-python) (2.2.1)\nRequirement already satisfied: protobuf<6.32,>=3.20 in /databricks/python3/lib/python3.12/site-packages (from snowflake-snowpark-python) (4.24.1)\nRequirement already satisfied: python-dateutil in /databricks/python3/lib/python3.12/site-packages (from snowflake-snowpark-python) (2.9.0.post0)\nRequirement already satisfied: tzlocal in /local_disk0/.ephemeral_nfs/envs/pythonEnv-6282bcb2-ae3a-4b04-8163-4665474a75b9/lib/python3.12/site-packages (from snowflake-snowpark-python) (5.3.1)\nRequirement already satisfied: asn1crypto<2.0.0,>0.24.0 in /local_disk0/.ephemeral_nfs/envs/pythonEnv-6282bcb2-ae3a-4b04-8163-4665474a75b9/lib/python3.12/site-packages (from snowflake-connector-python<4.0.0,>=3.17.0->snowflake-snowpark-python) (1.5.1)\nRequirement already satisfied: boto3>=1.24 in /databricks/python3/lib/python3.12/site-packages (from snowflake-connector-python<4.0.0,>=3.17.0->snowflake-snowpark-python) (1.34.69)\nRequirement already satisfied: botocore>=1.24 in /databricks/python3/lib/python3.12/site-packages (from snowflake-connector-python<4.0.0,>=3.17.0->snowflake-snowpark-python) (1.34.69)\nRequirement already satisfied: cffi<2.0.0,>=1.9 in /local_disk0/.ephemeral_nfs/envs/pythonEnv-6282bcb2-ae3a-4b04-8163-4665474a75b9/lib/python3.12/site-packages (from snowflake-connector-python<4.0.0,>=3.17.0->snowflake-snowpark-python) (1.17.1)\nRequirement already satisfied: cryptography>=3.1.0 in /local_disk0/.ephemeral_nfs/envs/pythonEnv-6282bcb2-ae3a-4b04-8163-4665474a75b9/lib/python3.12/site-packages (from snowflake-connector-python<4.0.0,>=3.17.0->snowflake-snowpark-python) (46.0.0)\nRequirement already satisfied: pyOpenSSL<26.0.0,>=22.0.0 in /local_disk0/.ephemeral_nfs/envs/pythonEnv-6282bcb2-ae3a-4b04-8163-4665474a75b9/lib/python3.12/site-packages (from snowflake-connector-python<4.0.0,>=3.17.0->snowflake-snowpark-python) (25.3.0)\nRequirement already satisfied: pyjwt<3.0.0 in /usr/lib/python3/dist-packages (from snowflake-connector-python<4.0.0,>=3.17.0->snowflake-snowpark-python) (2.7.0)\nRequirement already satisfied: pytz in /databricks/python3/lib/python3.12/site-packages (from snowflake-connector-python<4.0.0,>=3.17.0->snowflake-snowpark-python) (2024.1)\nRequirement already satisfied: requests<3.0.0 in /databricks/python3/lib/python3.12/site-packages (from snowflake-connector-python<4.0.0,>=3.17.0->snowflake-snowpark-python) (2.32.2)\nRequirement already satisfied: packaging in /databricks/python3/lib/python3.12/site-packages (from snowflake-connector-python<4.0.0,>=3.17.0->snowflake-snowpark-python) (24.1)\nRequirement already satisfied: charset_normalizer<4,>=2 in /databricks/python3/lib/python3.12/site-packages (from snowflake-connector-python<4.0.0,>=3.17.0->snowflake-snowpark-python) (2.0.4)\nRequirement already satisfied: idna<4,>=2.5 in /databricks/python3/lib/python3.12/site-packages (from snowflake-connector-python<4.0.0,>=3.17.0->snowflake-snowpark-python) (3.7)\nRequirement already satisfied: certifi>=2017.4.17 in /databricks/python3/lib/python3.12/site-packages (from snowflake-connector-python<4.0.0,>=3.17.0->snowflake-snowpark-python) (2024.6.2)\nRequirement already satisfied: filelock<4,>=3.5 in /usr/local/lib/python3.12/dist-packages (from snowflake-connector-python<4.0.0,>=3.17.0->snowflake-snowpark-python) (3.15.4)\nRequirement already satisfied: sortedcontainers>=2.4.0 in /local_disk0/.ephemeral_nfs/envs/pythonEnv-6282bcb2-ae3a-4b04-8163-4665474a75b9/lib/python3.12/site-packages (from snowflake-connector-python<4.0.0,>=3.17.0->snowflake-snowpark-python) (2.4.0)\nRequirement already satisfied: platformdirs<5.0.0,>=2.6.0 in /databricks/python3/lib/python3.12/site-packages (from snowflake-connector-python<4.0.0,>=3.17.0->snowflake-snowpark-python) (3.10.0)\nRequirement already satisfied: tomlkit in /local_disk0/.ephemeral_nfs/envs/pythonEnv-6282bcb2-ae3a-4b04-8163-4665474a75b9/lib/python3.12/site-packages (from snowflake-connector-python<4.0.0,>=3.17.0->snowflake-snowpark-python) (0.13.3)\nRequirement already satisfied: six>=1.5 in /usr/lib/python3/dist-packages (from python-dateutil->snowflake-snowpark-python) (1.16.0)\nRequirement already satisfied: jmespath<2.0.0,>=0.7.1 in /databricks/python3/lib/python3.12/site-packages (from boto3>=1.24->snowflake-connector-python<4.0.0,>=3.17.0->snowflake-snowpark-python) (1.0.1)\nRequirement already satisfied: s3transfer<0.11.0,>=0.10.0 in /databricks/python3/lib/python3.12/site-packages (from boto3>=1.24->snowflake-connector-python<4.0.0,>=3.17.0->snowflake-snowpark-python) (0.10.2)\nRequirement already satisfied: urllib3!=2.2.0,<3,>=1.25.4 in /databricks/python3/lib/python3.12/site-packages (from botocore>=1.24->snowflake-connector-python<4.0.0,>=3.17.0->snowflake-snowpark-python) (1.26.16)\nRequirement already satisfied: pycparser in /databricks/python3/lib/python3.12/site-packages (from cffi<2.0.0,>=1.9->snowflake-connector-python<4.0.0,>=3.17.0->snowflake-snowpark-python) (2.21)\n\u001B[43mNote: you may need to restart the kernel using %restart_python or dbutils.library.restartPython() to use updated packages.\u001B[0m\nRequirement already satisfied: snowflake-sqlalchemy in /local_disk0/.ephemeral_nfs/envs/pythonEnv-6282bcb2-ae3a-4b04-8163-4665474a75b9/lib/python3.12/site-packages (1.7.7)\nRequirement already satisfied: snowflake-connector-python<4.0.0 in /local_disk0/.ephemeral_nfs/envs/pythonEnv-6282bcb2-ae3a-4b04-8163-4665474a75b9/lib/python3.12/site-packages (from snowflake-sqlalchemy) (3.18.0)\nRequirement already satisfied: sqlalchemy>=1.4.19 in /local_disk0/.ephemeral_nfs/envs/pythonEnv-6282bcb2-ae3a-4b04-8163-4665474a75b9/lib/python3.12/site-packages (from snowflake-sqlalchemy) (2.0.44)\nRequirement already satisfied: asn1crypto<2.0.0,>0.24.0 in /local_disk0/.ephemeral_nfs/envs/pythonEnv-6282bcb2-ae3a-4b04-8163-4665474a75b9/lib/python3.12/site-packages (from snowflake-connector-python<4.0.0->snowflake-sqlalchemy) (1.5.1)\nRequirement already satisfied: boto3>=1.24 in /databricks/python3/lib/python3.12/site-packages (from snowflake-connector-python<4.0.0->snowflake-sqlalchemy) (1.34.69)\nRequirement already satisfied: botocore>=1.24 in /databricks/python3/lib/python3.12/site-packages (from snowflake-connector-python<4.0.0->snowflake-sqlalchemy) (1.34.69)\nRequirement already satisfied: cffi<2.0.0,>=1.9 in /local_disk0/.ephemeral_nfs/envs/pythonEnv-6282bcb2-ae3a-4b04-8163-4665474a75b9/lib/python3.12/site-packages (from snowflake-connector-python<4.0.0->snowflake-sqlalchemy) (1.17.1)\nRequirement already satisfied: cryptography>=3.1.0 in /local_disk0/.ephemeral_nfs/envs/pythonEnv-6282bcb2-ae3a-4b04-8163-4665474a75b9/lib/python3.12/site-packages (from snowflake-connector-python<4.0.0->snowflake-sqlalchemy) (46.0.0)\nRequirement already satisfied: pyOpenSSL<26.0.0,>=22.0.0 in /local_disk0/.ephemeral_nfs/envs/pythonEnv-6282bcb2-ae3a-4b04-8163-4665474a75b9/lib/python3.12/site-packages (from snowflake-connector-python<4.0.0->snowflake-sqlalchemy) (25.3.0)\nRequirement already satisfied: pyjwt<3.0.0 in /usr/lib/python3/dist-packages (from snowflake-connector-python<4.0.0->snowflake-sqlalchemy) (2.7.0)\nRequirement already satisfied: pytz in /databricks/python3/lib/python3.12/site-packages (from snowflake-connector-python<4.0.0->snowflake-sqlalchemy) (2024.1)\nRequirement already satisfied: requests<3.0.0 in /databricks/python3/lib/python3.12/site-packages (from snowflake-connector-python<4.0.0->snowflake-sqlalchemy) (2.32.2)\nRequirement already satisfied: packaging in /databricks/python3/lib/python3.12/site-packages (from snowflake-connector-python<4.0.0->snowflake-sqlalchemy) (24.1)\nRequirement already satisfied: charset_normalizer<4,>=2 in /databricks/python3/lib/python3.12/site-packages (from snowflake-connector-python<4.0.0->snowflake-sqlalchemy) (2.0.4)\nRequirement already satisfied: idna<4,>=2.5 in /databricks/python3/lib/python3.12/site-packages (from snowflake-connector-python<4.0.0->snowflake-sqlalchemy) (3.7)\nRequirement already satisfied: certifi>=2017.4.17 in /databricks/python3/lib/python3.12/site-packages (from snowflake-connector-python<4.0.0->snowflake-sqlalchemy) (2024.6.2)\nRequirement already satisfied: typing_extensions<5,>=4.3 in /databricks/python3/lib/python3.12/site-packages (from snowflake-connector-python<4.0.0->snowflake-sqlalchemy) (4.11.0)\nRequirement already satisfied: filelock<4,>=3.5 in /usr/local/lib/python3.12/dist-packages (from snowflake-connector-python<4.0.0->snowflake-sqlalchemy) (3.15.4)\nRequirement already satisfied: sortedcontainers>=2.4.0 in /local_disk0/.ephemeral_nfs/envs/pythonEnv-6282bcb2-ae3a-4b04-8163-4665474a75b9/lib/python3.12/site-packages (from snowflake-connector-python<4.0.0->snowflake-sqlalchemy) (2.4.0)\nRequirement already satisfied: platformdirs<5.0.0,>=2.6.0 in /databricks/python3/lib/python3.12/site-packages (from snowflake-connector-python<4.0.0->snowflake-sqlalchemy) (3.10.0)\nRequirement already satisfied: tomlkit in /local_disk0/.ephemeral_nfs/envs/pythonEnv-6282bcb2-ae3a-4b04-8163-4665474a75b9/lib/python3.12/site-packages (from snowflake-connector-python<4.0.0->snowflake-sqlalchemy) (0.13.3)\nRequirement already satisfied: greenlet>=1 in /local_disk0/.ephemeral_nfs/envs/pythonEnv-6282bcb2-ae3a-4b04-8163-4665474a75b9/lib/python3.12/site-packages (from sqlalchemy>=1.4.19->snowflake-sqlalchemy) (3.2.4)\nRequirement already satisfied: jmespath<2.0.0,>=0.7.1 in /databricks/python3/lib/python3.12/site-packages (from boto3>=1.24->snowflake-connector-python<4.0.0->snowflake-sqlalchemy) (1.0.1)\nRequirement already satisfied: s3transfer<0.11.0,>=0.10.0 in /databricks/python3/lib/python3.12/site-packages (from boto3>=1.24->snowflake-connector-python<4.0.0->snowflake-sqlalchemy) (0.10.2)\nRequirement already satisfied: python-dateutil<3.0.0,>=2.1 in /databricks/python3/lib/python3.12/site-packages (from botocore>=1.24->snowflake-connector-python<4.0.0->snowflake-sqlalchemy) (2.9.0.post0)\nRequirement already satisfied: urllib3!=2.2.0,<3,>=1.25.4 in /databricks/python3/lib/python3.12/site-packages (from botocore>=1.24->snowflake-connector-python<4.0.0->snowflake-sqlalchemy) (1.26.16)\nRequirement already satisfied: pycparser in /databricks/python3/lib/python3.12/site-packages (from cffi<2.0.0,>=1.9->snowflake-connector-python<4.0.0->snowflake-sqlalchemy) (2.21)\nRequirement already satisfied: six>=1.5 in /usr/lib/python3/dist-packages (from python-dateutil<3.0.0,>=2.1->botocore>=1.24->snowflake-connector-python<4.0.0->snowflake-sqlalchemy) (1.16.0)\n\u001B[43mNote: you may need to restart the kernel using %restart_python or dbutils.library.restartPython() to use updated packages.\u001B[0m\nRequirement already satisfied: azure-storage-blob in /databricks/python3/lib/python3.12/site-packages (12.23.0)\nRequirement already satisfied: pandas in /databricks/python3/lib/python3.12/site-packages (1.5.3)\nRequirement already satisfied: azure-core>=1.30.0 in /databricks/python3/lib/python3.12/site-packages (from azure-storage-blob) (1.31.0)\nRequirement already satisfied: cryptography>=2.1.4 in /local_disk0/.ephemeral_nfs/envs/pythonEnv-6282bcb2-ae3a-4b04-8163-4665474a75b9/lib/python3.12/site-packages (from azure-storage-blob) (46.0.0)\nRequirement already satisfied: typing-extensions>=4.6.0 in /databricks/python3/lib/python3.12/site-packages (from azure-storage-blob) (4.11.0)\nRequirement already satisfied: isodate>=0.6.1 in /databricks/python3/lib/python3.12/site-packages (from azure-storage-blob) (0.6.1)\nRequirement already satisfied: numpy>=1.21.0 in /databricks/python3/lib/python3.12/site-packages (from pandas) (1.26.4)\nRequirement already satisfied: python-dateutil>=2.8.1 in /databricks/python3/lib/python3.12/site-packages (from pandas) (2.9.0.post0)\nRequirement already satisfied: pytz>=2020.1 in /databricks/python3/lib/python3.12/site-packages (from pandas) (2024.1)\nRequirement already satisfied: requests>=2.21.0 in /databricks/python3/lib/python3.12/site-packages (from azure-core>=1.30.0->azure-storage-blob) (2.32.2)\nRequirement already satisfied: six>=1.11.0 in /usr/lib/python3/dist-packages (from azure-core>=1.30.0->azure-storage-blob) (1.16.0)\nRequirement already satisfied: cffi>=1.14 in /local_disk0/.ephemeral_nfs/envs/pythonEnv-6282bcb2-ae3a-4b04-8163-4665474a75b9/lib/python3.12/site-packages (from cryptography>=2.1.4->azure-storage-blob) (1.17.1)\nRequirement already satisfied: pycparser in /databricks/python3/lib/python3.12/site-packages (from cffi>=1.14->cryptography>=2.1.4->azure-storage-blob) (2.21)\nRequirement already satisfied: charset-normalizer<4,>=2 in /databricks/python3/lib/python3.12/site-packages (from requests>=2.21.0->azure-core>=1.30.0->azure-storage-blob) (2.0.4)\nRequirement already satisfied: idna<4,>=2.5 in /databricks/python3/lib/python3.12/site-packages (from requests>=2.21.0->azure-core>=1.30.0->azure-storage-blob) (3.7)\nRequirement already satisfied: urllib3<3,>=1.21.1 in /databricks/python3/lib/python3.12/site-packages (from requests>=2.21.0->azure-core>=1.30.0->azure-storage-blob) (1.26.16)\nRequirement already satisfied: certifi>=2017.4.17 in /databricks/python3/lib/python3.12/site-packages (from requests>=2.21.0->azure-core>=1.30.0->azure-storage-blob) (2024.6.2)\n\u001B[43mNote: you may need to restart the kernel using %restart_python or dbutils.library.restartPython() to use updated packages.\u001B[0m\n"
     ]
    }
   ],
   "source": [
    "%pip install snowflake-connector-python\n",
    "%pip install snowflake-snowpark-python\n",
    "%pip install azure-storage-blob pandas\n"
   ]
  },
  {
   "cell_type": "code",
   "execution_count": 0,
   "metadata": {
    "application/vnd.databricks.v1+cell": {
     "cellMetadata": {
      "byteLimit": 2048000,
      "rowLimit": 10000
     },
     "inputWidgets": {},
     "nuid": "78109c14-cb5e-4152-8aef-43e4ff01fb84",
     "showTitle": false,
     "tableResultSettingsMap": {},
     "title": ""
    }
   },
   "outputs": [],
   "source": [
    "%restart_python"
   ]
  },
  {
   "cell_type": "code",
   "execution_count": 0,
   "metadata": {
    "application/vnd.databricks.v1+cell": {
     "cellMetadata": {
      "byteLimit": 2048000,
      "rowLimit": 10000
     },
     "inputWidgets": {},
     "nuid": "fccc7b42-e39f-4065-bbe6-f4b537954d1a",
     "showTitle": false,
     "tableResultSettingsMap": {},
     "title": ""
    }
   },
   "outputs": [],
   "source": [
    "from snowflake.snowpark import Session\n",
    "from snowflake.snowpark.functions import col, avg, split, year, month\n"
   ]
  },
  {
   "cell_type": "markdown",
   "metadata": {
    "application/vnd.databricks.v1+cell": {
     "cellMetadata": {},
     "inputWidgets": {},
     "nuid": "4a197f6e-179e-4d03-ab80-b5f688f58d21",
     "showTitle": false,
     "tableResultSettingsMap": {},
     "title": ""
    }
   },
   "source": [
    "Snowflake Connection"
   ]
  },
  {
   "cell_type": "code",
   "execution_count": 0,
   "metadata": {
    "application/vnd.databricks.v1+cell": {
     "cellMetadata": {
      "byteLimit": 2048000,
      "rowLimit": 10000
     },
     "inputWidgets": {},
     "nuid": "8cbf8808-74cc-4efb-bc3c-07fc00a752f5",
     "showTitle": false,
     "tableResultSettingsMap": {},
     "title": ""
    }
   },
   "outputs": [
    {
     "output_type": "stream",
     "name": "stdout",
     "output_type": "stream",
     "text": [
      " Connected to Snowflake\n"
     ]
    }
   ],
   "source": [
    "connection_parameters = {\n",
    "  \"account\": \"TPRTVOG-TG33465\",\n",
    "  \"user\": \"shivashankari\",\n",
    "  \"password\": \"Shivashankari_04\",\n",
    "  \"warehouse\": \"RETAIL_WH\",\n",
    "  \"database\": \"RETAIL_DB\",\n",
    "  \"schema\": \"RETAIL_SCHEMA\"\n",
    "}\n",
    "session = Session.builder.configs(connection_parameters).create()\n",
    "print(\" Connected to Snowflake\")\n"
   ]
  },
  {
   "cell_type": "markdown",
   "metadata": {
    "application/vnd.databricks.v1+cell": {
     "cellMetadata": {},
     "inputWidgets": {},
     "nuid": "e9638df7-cedd-48ce-8f4f-9dabc8591e8c",
     "showTitle": false,
     "tableResultSettingsMap": {},
     "title": ""
    }
   },
   "source": [
    "Connect to Azure Blob Storage and Download the Retail Sales CSV File"
   ]
  },
  {
   "cell_type": "code",
   "execution_count": 0,
   "metadata": {
    "application/vnd.databricks.v1+cell": {
     "cellMetadata": {
      "byteLimit": 2048000,
      "rowLimit": 10000
     },
     "inputWidgets": {},
     "nuid": "e236c4ab-3a29-4bb6-a201-be420fc9dfdf",
     "showTitle": false,
     "tableResultSettingsMap": {},
     "title": ""
    }
   },
   "outputs": [
    {
     "output_type": "stream",
     "name": "stdout",
     "output_type": "stream",
     "text": [
      " CSV downloaded from Azure\n"
     ]
    }
   ],
   "source": [
    "from azure.storage.blob import BlobServiceClient\n",
    "import pandas as pd\n",
    "\n",
    "blob_service_client = BlobServiceClient(account_url=\"https://hexadatastorage.blob.core.windows.net/\", credential=\"sp=rwp&st=2025-10-22T16:16:28Z&se=2025-10-23T00:31:28Z&spr=https&sv=2024-11-04&sr=b&sig=UPuvW53PwcO8L6cGryIKNEaku8N6LiBgGUwOLAOlxYc%3D\")\n",
    "container_name = \"retailsales\"\n",
    "blob_name = \"Retail_Sales__500_rows__Preview.csv\"\n",
    "\n",
    "# Download file locally\n",
    "with open(\"Retail_Sales.csv\", \"wb\") as download_file:\n",
    "    download_file.write(blob_service_client.get_blob_client(container=container_name, blob=blob_name).download_blob().readall())\n",
    "\n",
    "print(\" CSV downloaded from Azure\")\n"
   ]
  },
  {
   "cell_type": "markdown",
   "metadata": {
    "application/vnd.databricks.v1+cell": {
     "cellMetadata": {},
     "inputWidgets": {},
     "nuid": "151f0518-f056-44fa-b7b3-c5e04ff34af2",
     "showTitle": false,
     "tableResultSettingsMap": {},
     "title": ""
    }
   },
   "source": [
    " Creating a Snowflake Stage and Read Data into a Snowpark DataFrame"
   ]
  },
  {
   "cell_type": "code",
   "execution_count": 0,
   "metadata": {
    "application/vnd.databricks.v1+cell": {
     "cellMetadata": {
      "byteLimit": 2048000,
      "rowLimit": 10000
     },
     "inputWidgets": {},
     "nuid": "e75a2c51-0234-4751-8e44-752f924a1bbc",
     "showTitle": false,
     "tableResultSettingsMap": {},
     "title": ""
    }
   },
   "outputs": [
    {
     "output_type": "stream",
     "name": "stdout",
     "output_type": "stream",
     "text": [
      "-------------------------------------------------------------------------------------------------------------------------------------------------------------------\n|\"c1\"          |\"c2\"        |\"c3\"     |\"c4\"      |\"c5\"           |\"c6\"   |\"c7\"     |\"c8\"     |\"c9\"             |\"c10\"        |\"c11\"  |\"c12\"  |\"c13\"    |\"c14\"     |\n-------------------------------------------------------------------------------------------------------------------------------------------------------------------\n|ORD-5F8D6F0C  |2024-10-08  |2024-10  |CUST1000  |Ananya Sharma  |India  |South    |Mumbai   |Office Supplies  |Paper        |9      |0.00   |2700.0   |780.43    |\n|ORD-BF0078E4  |2024-08-11  |2024-08  |CUST1001  |Aarav Iyer     |India  |Central  |Lucknow  |Technology       |Networking   |4      |0.15   |27200.0  |4135.60   |\n|ORD-86CD58A3  |2024-06-12  |2024-06  |CUST1002  |Arjun Sharma   |USA    |East     |Kolkata  |Furniture        |Tables       |4      |0.10   |31500.0  |5676.96   |\n|ORD-FB0CD2D9  |2024-12-18  |2024-12  |CUST1003  |Ananya Das     |India  |North    |Kolkata  |Office Supplies  |Appliances   |9      |0.00   |36000.0  |11783.22  |\n|ORD-EF35596B  |2024-10-27  |2024-10  |CUST1004  |Ishaan Bhat    |UK     |Central  |Chennai  |Furniture        |Storage      |4      |0.00   |24000.0  |4189.98   |\n|ORD-60D1DA88  |2024-08-26  |2024-08  |CUST1005  |Neha Iyer      |UAE    |West     |Chennai  |Furniture        |Furnishings  |6      |0.05   |16387.5  |3392.51   |\n|ORD-A5081404  |2025-09-15  |2025-09  |CUST1006  |Arjun Iyer     |India  |Central  |Jaipur   |Office Supplies  |Binders      |3      |0.15   |1147.5   |307.47    |\n|ORD-E1C9BE42  |2024-02-27  |2024-02  |CUST1007  |Priya Singh    |India  |North    |Lucknow  |Furniture        |Furnishings  |5      |0.00   |12500.0  |2388.73   |\n|ORD-4FCB3B05  |2025-05-26  |2025-05  |CUST1008  |Kabir Menon    |India  |West     |Jaipur   |Technology       |Printers     |3      |0.05   |42750.0  |8742.33   |\n|ORD-921966C8  |2025-03-14  |2025-03  |CUST1009  |Arjun Chopra   |UAE    |West     |Mumbai   |Furniture        |Tables       |3      |0.15   |20527.5  |3676.29   |\n-------------------------------------------------------------------------------------------------------------------------------------------------------------------\n\n"
     ]
    }
   ],
   "source": [
    "\n",
    "session.sql(\"CREATE OR REPLACE STAGE AZURE_STAGE\").collect()\n",
    "\n",
    "# Put file to stage\n",
    "session.file.put(\"Retail_Sales.csv\", \"@AZURE_STAGE\", auto_compress=False)\n",
    "\n",
    "# Read file from stage using Snowpark\n",
    "df = session.read.options({\n",
    "    \"field_delimiter\": \",\",\n",
    "    \"skip_header\": 1\n",
    "}).csv(\"@AZURE_STAGE/Retail_Sales.csv\")\n",
    "\n",
    "df.show()\n"
   ]
  },
  {
   "cell_type": "markdown",
   "metadata": {
    "application/vnd.databricks.v1+cell": {
     "cellMetadata": {},
     "inputWidgets": {},
     "nuid": "78cf7261-70fa-4931-a477-7807c7d2fae0",
     "showTitle": false,
     "tableResultSettingsMap": {},
     "title": ""
    }
   },
   "source": [
    "Load the DataFrame into Snowflake as a Raw Table (RETAIL_SALES_RAW)"
   ]
  },
  {
   "cell_type": "code",
   "execution_count": 0,
   "metadata": {
    "application/vnd.databricks.v1+cell": {
     "cellMetadata": {
      "byteLimit": 2048000,
      "rowLimit": 10000
     },
     "inputWidgets": {},
     "nuid": "d418bf4a-292d-44bb-8b3d-98b8fcdda85f",
     "showTitle": false,
     "tableResultSettingsMap": {},
     "title": ""
    }
   },
   "outputs": [
    {
     "output_type": "stream",
     "name": "stdout",
     "output_type": "stream",
     "text": [
      "Data loaded to Snowflake table RETAIL_SALES_RAW\n"
     ]
    }
   ],
   "source": [
    "\n",
    "df.write.mode(\"overwrite\").save_as_table(\"RETAIL_SALES_RAW\")\n",
    "\n",
    "print(\"Data loaded to Snowflake table RETAIL_SALES_RAW\")\n",
    "\n",
    "     "
   ]
  },
  {
   "cell_type": "markdown",
   "metadata": {
    "application/vnd.databricks.v1+cell": {
     "cellMetadata": {},
     "inputWidgets": {},
     "nuid": "2234499c-527e-4a08-9a30-50c180d529c7",
     "showTitle": false,
     "tableResultSettingsMap": {},
     "title": ""
    }
   },
   "source": [
    "**Transformations**"
   ]
  },
  {
   "cell_type": "code",
   "execution_count": 0,
   "metadata": {
    "application/vnd.databricks.v1+cell": {
     "cellMetadata": {
      "byteLimit": 2048000,
      "rowLimit": 10000
     },
     "inputWidgets": {},
     "nuid": "7006c3de-f4d4-43dd-ab2f-55cffbe4aefd",
     "showTitle": false,
     "tableResultSettingsMap": {},
     "title": ""
    }
   },
   "outputs": [
    {
     "output_type": "stream",
     "name": "stdout",
     "output_type": "stream",
     "text": [
      "---------------------------------------------------------------------------------------------------------------------------------------------------------------------------------------\n|\"c1\"          |\"c2\"        |\"c3\"     |\"c4\"      |\"c5\"           |\"c6\"   |\"c7\"     |\"c8\"     |\"c9\"             |\"c10\"       |\"c11\"  |\"c12\"  |\"c13\"    |\"c14\"     |\"DISCOUNTED_SALES\"  |\n---------------------------------------------------------------------------------------------------------------------------------------------------------------------------------------\n|ORD-5F8D6F0C  |2024-10-08  |2024-10  |CUST1000  |Ananya Sharma  |India  |South    |Mumbai   |Office Supplies  |Paper       |9      |0.00   |2700.0   |780.43    |2430.00             |\n|ORD-BF0078E4  |2024-08-11  |2024-08  |CUST1001  |Aarav Iyer     |India  |Central  |Lucknow  |Technology       |Networking  |4      |0.15   |27200.0  |4135.60   |24480.00            |\n|ORD-86CD58A3  |2024-06-12  |2024-06  |CUST1002  |Arjun Sharma   |USA    |East     |Kolkata  |Furniture        |Tables      |4      |0.10   |31500.0  |5676.96   |28350.00            |\n|ORD-FB0CD2D9  |2024-12-18  |2024-12  |CUST1003  |Ananya Das     |India  |North    |Kolkata  |Office Supplies  |Appliances  |9      |0.00   |36000.0  |11783.22  |32400.00            |\n|ORD-EF35596B  |2024-10-27  |2024-10  |CUST1004  |Ishaan Bhat    |UK     |Central  |Chennai  |Furniture        |Storage     |4      |0.00   |24000.0  |4189.98   |21600.00            |\n---------------------------------------------------------------------------------------------------------------------------------------------------------------------------------------\n\n"
     ]
    }
   ],
   "source": [
    "from snowflake.snowpark.functions import col\n",
    "\n",
    "df_simple = df.with_column(\"DISCOUNTED_SALES\", col('\"c13\"') * 0.9)\n",
    "df_simple.show(5)\n",
    "\n"
   ]
  },
  {
   "cell_type": "code",
   "execution_count": 0,
   "metadata": {
    "application/vnd.databricks.v1+cell": {
     "cellMetadata": {
      "byteLimit": 2048000,
      "rowLimit": 10000
     },
     "inputWidgets": {},
     "nuid": "f1e92c98-a74d-4d21-9fc2-f1f48c6c119f",
     "showTitle": false,
     "tableResultSettingsMap": {},
     "title": ""
    }
   },
   "outputs": [
    {
     "output_type": "stream",
     "name": "stdout",
     "output_type": "stream",
     "text": [
      "Modeled data saved to RETAIL_SCHEMA.RETAIL_SALES_MODELED\n"
     ]
    }
   ],
   "source": [
    "df_model = (\n",
    "    df.select(\n",
    "        col('\"c1\"').alias(\"OrderID\"),\n",
    "        col('\"c2\"').cast(\"date\").alias(\"OrderDate\"),\n",
    "        col('\"c3\"').alias(\"MonthOfSale\"),\n",
    "        col('\"c4\"').alias(\"CustomerID\"),\n",
    "        col('\"c5\"').alias(\"CustomerName\"),\n",
    "        col('\"c6\"').alias(\"Country\"),\n",
    "        col('\"c7\"').alias(\"Region\"),\n",
    "        col('\"c8\"').alias(\"City\"),\n",
    "        col('\"c9\"').alias(\"Category\"),\n",
    "        col('\"c10\"').alias(\"Subcategory\"),\n",
    "        col('\"c11\"').cast(\"NUMBER\").alias(\"Quantity\"),\n",
    "        col('\"c12\"').cast(\"FLOAT\").alias(\"Discount\"),\n",
    "        col('\"c13\"').cast(\"FLOAT\").alias(\"Sales\"),\n",
    "        col('\"c14\"').cast(\"FLOAT\").alias(\"Profit\")\n",
    "    )\n",
    ")\n",
    "\n",
    "df_model.write.mode(\"overwrite\").save_as_table(\"RETAIL_SCHEMA.RETAIL_SALES_MODELED\")\n",
    "print(\"Modeled data saved to RETAIL_SCHEMA.RETAIL_SALES_MODELED\")\n"
   ]
  },
  {
   "cell_type": "code",
   "execution_count": 0,
   "metadata": {
    "application/vnd.databricks.v1+cell": {
     "cellMetadata": {
      "byteLimit": 2048000,
      "rowLimit": 10000
     },
     "inputWidgets": {},
     "nuid": "a56ae444-d70d-4382-a8e9-4589b6828cce",
     "showTitle": false,
     "tableResultSettingsMap": {},
     "title": ""
    }
   },
   "outputs": [
    {
     "output_type": "stream",
     "name": "stdout",
     "output_type": "stream",
     "text": [
      "Added ProfitMargin column and updated table\n"
     ]
    }
   ],
   "source": [
    "from snowflake.snowpark.functions import when\n",
    "\n",
    "df_transformed = df_model.with_column(\n",
    "    \"ProfitMargin\",\n",
    "    when(col(\"Sales\") != 0, (col(\"Profit\") / col(\"Sales\")) * 100).otherwise(0)\n",
    ")\n",
    "\n",
    "df_transformed.write.mode(\"overwrite\").save_as_table(\"RETAIL_SCHEMA.RETAIL_SALES_MODELED\")\n",
    "print(\"Added ProfitMargin column and updated table\")"
   ]
  }
 ],
 "metadata": {
  "application/vnd.databricks.v1+notebook": {
   "computePreferences": null,
   "dashboards": [],
   "environmentMetadata": {
    "base_environment": "",
    "environment_version": "4"
   },
   "inputWidgetPreferences": null,
   "language": "python",
   "notebookMetadata": {
    "pythonIndentUnit": 4
   },
   "notebookName": "Case study Databricks",
   "widgets": {}
  },
  "language_info": {
   "name": "python"
  }
 },
 "nbformat": 4,
 "nbformat_minor": 0
}